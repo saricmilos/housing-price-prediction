{
 "cells": [
  {
   "cell_type": "code",
   "execution_count": null,
   "id": "1154ad02",
   "metadata": {},
   "outputs": [],
   "source": [
    "#Importing Modules\n",
    "import sklearn\n",
    "import scipy\n",
    "import scipy.stats as stats\n",
    "from scipy.stats import skew,boxcox_normmax, zscore\n",
    "from scipy.special import boxcox1p\n",
    "from sklearn.preprocessing import OneHotEncoder,LabelEncoder,RobustScaler\n",
    "from sklearn.compose import ColumnTransformer\n",
    "from sklearn.pipeline import Pipeline\n",
    "from sklearn.impute import SimpleImputer,KNNImputer\n",
    "import numpy as np\n",
    "import pandas as pd\n",
    "from sklearn.ensemble import RandomForestRegressor,GradientBoostingRegressor\n",
    "from sklearn.linear_model import Ridge, Lasso, LinearRegression\n",
    "from sklearn.svm import SVR\n",
    "from sklearn.metrics import mean_squared_error, make_scorer, mean_absolute_error \n",
    "from sklearn.model_selection import KFold, RandomizedSearchCV\n",
    "from mlxtend.regressor import StackingCVRegressor\n",
    "from multiprocessing import cpu_count\n",
    "from lightgbm import LGBMRegressor\n",
    "import matplotlib.pyplot as plt\n",
    "import xgboost as xgb\n",
    "import seaborn as sns\n",
    "from catboost import CatBoostRegressor"
   ]
  }
 ],
 "metadata": {
  "language_info": {
   "name": "python"
  }
 },
 "nbformat": 4,
 "nbformat_minor": 5
}
